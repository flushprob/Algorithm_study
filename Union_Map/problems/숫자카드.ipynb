{
 "cells": [
  {
   "cell_type": "code",
   "execution_count": 66,
   "metadata": {},
   "outputs": [],
   "source": [
    "import sys, io\n",
    "file = open(\"inputs.txt\", 'w')\n",
    "# 다음 데이터에 그대로 여러 데이터를 복사붙여넣기 하면 됨\n",
    "data = \"\"\"5\n",
    "6 3 2 10 -10\n",
    "8\n",
    "10 9 -5 2 3 4 5 -10\n",
    "\"\"\"\n",
    "file.write(data)\n",
    "file.close()\n",
    "input_file = open(\"inputs.txt\", \"r\") \n",
    "sys.stdin = io.StringIO(input_file.read())"
   ]
  },
  {
   "cell_type": "code",
   "execution_count": 67,
   "metadata": {},
   "outputs": [
    {
     "name": "stdout",
     "output_type": "stream",
     "text": [
      "1 0 0 1 1 0 0 1 "
     ]
    }
   ],
   "source": [
    "import sys\n",
    "input = sys.stdin.readline\n",
    "n = int(input())\n",
    "have =[]\n",
    "comp =[]\n",
    "have = list(map(int, input().split()))\n",
    "\n",
    "m = int(input())\n",
    "comp = list(map(int, input().split()))\n",
    "\n",
    "have.sort()\n",
    "\n",
    "def binary_search(array, target, start, end):\n",
    "    while start <= end:\n",
    "        mid = (start+end) // 2\n",
    "\n",
    "        if array[mid] == target:\n",
    "            return mid\n",
    "        elif array[mid] > target:\n",
    "            end = mid - 1\n",
    "        else:\n",
    "            start = mid + 1\n",
    "    return None\n",
    "\n",
    "for i in range(m):\n",
    "    if binary_search(have, comp[i], 0, n-1) is not None:\n",
    "        print(1, end=' ')\n",
    "    else:\n",
    "        print(0, end=' ')"
   ]
  },
  {
   "cell_type": "code",
   "execution_count": null,
   "metadata": {},
   "outputs": [],
   "source": []
  }
 ],
 "metadata": {
  "kernelspec": {
   "display_name": "Python 3.8.5 ('fc')",
   "language": "python",
   "name": "python3"
  },
  "language_info": {
   "codemirror_mode": {
    "name": "ipython",
    "version": 3
   },
   "file_extension": ".py",
   "mimetype": "text/x-python",
   "name": "python",
   "nbconvert_exporter": "python",
   "pygments_lexer": "ipython3",
   "version": "3.8.5"
  },
  "orig_nbformat": 4,
  "vscode": {
   "interpreter": {
    "hash": "c7128d45a953342855acfca85984b27a9de29467a63bca9b04cbf7ab65dd0918"
   }
  }
 },
 "nbformat": 4,
 "nbformat_minor": 2
}
