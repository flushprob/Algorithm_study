{
 "cells": [
  {
   "cell_type": "code",
   "execution_count": 13,
   "metadata": {},
   "outputs": [],
   "source": [
    "import sys, io\n",
    "file = open(\"inputs.txt\", 'w')\n",
    "# 다음 데이터에 그대로 여러 데이터를 복사붙여넣기 하면 됨\n",
    "data = \"\"\"ababc\n",
    "\"\"\"\n",
    "file.write(data)\n",
    "file.close()\n",
    "input_file = open(\"inputs.txt\", \"r\") \n",
    "sys.stdin = io.StringIO(input_file.read())"
   ]
  },
  {
   "cell_type": "code",
   "execution_count": 14,
   "metadata": {},
   "outputs": [
    {
     "name": "stdout",
     "output_type": "stream",
     "text": [
      "12\n"
     ]
    }
   ],
   "source": [
    "import sys\n",
    "input = sys.stdin.readline\n",
    "\n",
    "s = list(input().strip())\n",
    "temp = set()\n",
    "\n",
    "for i in range(len(s)):\n",
    "    for j in range(len(s)+1):\n",
    "        if s[i:j]:\n",
    "            temp.add(\"\".join(s[i:j]))\n",
    "\n",
    "\n",
    "print(len(temp))\n"
   ]
  },
  {
   "cell_type": "code",
   "execution_count": null,
   "metadata": {},
   "outputs": [],
   "source": []
  }
 ],
 "metadata": {
  "kernelspec": {
   "display_name": "Python 3.8.5 ('fc')",
   "language": "python",
   "name": "python3"
  },
  "language_info": {
   "codemirror_mode": {
    "name": "ipython",
    "version": 3
   },
   "file_extension": ".py",
   "mimetype": "text/x-python",
   "name": "python",
   "nbconvert_exporter": "python",
   "pygments_lexer": "ipython3",
   "version": "3.8.5"
  },
  "orig_nbformat": 4,
  "vscode": {
   "interpreter": {
    "hash": "c7128d45a953342855acfca85984b27a9de29467a63bca9b04cbf7ab65dd0918"
   }
  }
 },
 "nbformat": 4,
 "nbformat_minor": 2
}
