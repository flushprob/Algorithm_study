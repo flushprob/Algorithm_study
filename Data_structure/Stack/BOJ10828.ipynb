{
 "cells": [
  {
   "cell_type": "code",
   "execution_count": 83,
   "metadata": {},
   "outputs": [],
   "source": [
    "import sys, io\n",
    "file = open(\"inputs.txt\", 'w')\n",
    "# 다음 데이터에 그대로 여러 데이터를 복사붙여넣기 하면 됨\n",
    "data = \"\"\"7\n",
    "pop\n",
    "top\n",
    "push 123\n",
    "top\n",
    "pop\n",
    "top\n",
    "pop\n",
    "\"\"\"\n",
    "file.write(data)\n",
    "file.close()\n",
    "input_file = open(\"inputs.txt\", \"r\") \n",
    "sys.stdin = io.StringIO(input_file.read())"
   ]
  },
  {
   "cell_type": "code",
   "execution_count": 84,
   "metadata": {},
   "outputs": [
    {
     "name": "stdout",
     "output_type": "stream",
     "text": [
      "-1\n",
      "-1\n",
      "123\n",
      "123\n",
      "-1\n",
      "-1\n"
     ]
    }
   ],
   "source": [
    "import sys\n",
    "input = sys.stdin.readline\n",
    "\n",
    "n = int(input())\n",
    "stack = []\n",
    "for i in range(n):\n",
    "    order = input().strip()\n",
    "    if 'push' in order:\n",
    "        order = int(order[5:])\n",
    "        stack.append(order)\n",
    "    elif 'top' in order:\n",
    "        if not len(stack):\n",
    "            print(-1)\n",
    "        else:\n",
    "            print(stack[-1])\n",
    "    elif 'size' in order:\n",
    "        print(len(stack))\n",
    "    elif 'empty' in order:\n",
    "        if len(stack):\n",
    "            print(0)\n",
    "        else:\n",
    "            print(1)\n",
    "    elif 'pop' in order:\n",
    "        if len(stack) == 0:\n",
    "            print(-1)\n",
    "        else:\n",
    "            print(stack[-1])\n",
    "            stack.pop()\n",
    "  \n",
    "\n",
    "\n"
   ]
  },
  {
   "cell_type": "code",
   "execution_count": null,
   "metadata": {},
   "outputs": [],
   "source": []
  }
 ],
 "metadata": {
  "kernelspec": {
   "display_name": "Python 3.8.5 ('fc')",
   "language": "python",
   "name": "python3"
  },
  "language_info": {
   "codemirror_mode": {
    "name": "ipython",
    "version": 3
   },
   "file_extension": ".py",
   "mimetype": "text/x-python",
   "name": "python",
   "nbconvert_exporter": "python",
   "pygments_lexer": "ipython3",
   "version": "3.8.5"
  },
  "orig_nbformat": 4,
  "vscode": {
   "interpreter": {
    "hash": "c7128d45a953342855acfca85984b27a9de29467a63bca9b04cbf7ab65dd0918"
   }
  }
 },
 "nbformat": 4,
 "nbformat_minor": 2
}
