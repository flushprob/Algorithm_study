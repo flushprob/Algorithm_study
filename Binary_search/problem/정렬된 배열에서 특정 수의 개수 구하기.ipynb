{
 "cells": [
  {
   "cell_type": "markdown",
   "metadata": {},
   "source": [
    "### 정렬된 배열에서 특정 수의 개수 구하기\n",
    "![nn](img/array.png)"
   ]
  },
  {
   "cell_type": "code",
   "execution_count": 1,
   "metadata": {},
   "outputs": [
    {
     "name": "stdout",
     "output_type": "stream",
     "text": [
      "4\n"
     ]
    }
   ],
   "source": [
    "n, x = map(int, input().split()) # 7, 2\n",
    "\n",
    "array = list(map(int, input().split())) # 1, 1, 2, 2, 2, 2, 3\n",
    "\n",
    "from bisect import bisect_left, bisect_right\n",
    "\n",
    "def count_by_range(array, left_value, right_value):\n",
    "    right_index = bisect_right(array, right_value)\n",
    "    left_index = bisect_left(array, left_value)\n",
    "    return right_index - left_index\n",
    "\n",
    "count = count_by_range(array, x, x)\n",
    "\n",
    "if count == 0:\n",
    "    print(-1)\n",
    "else:\n",
    "    print(count)"
   ]
  },
  {
   "cell_type": "code",
   "execution_count": null,
   "metadata": {},
   "outputs": [],
   "source": []
  }
 ],
 "metadata": {
  "kernelspec": {
   "display_name": "Python 3.8.5 ('fc')",
   "language": "python",
   "name": "python3"
  },
  "language_info": {
   "codemirror_mode": {
    "name": "ipython",
    "version": 3
   },
   "file_extension": ".py",
   "mimetype": "text/x-python",
   "name": "python",
   "nbconvert_exporter": "python",
   "pygments_lexer": "ipython3",
   "version": "3.8.5"
  },
  "orig_nbformat": 4,
  "vscode": {
   "interpreter": {
    "hash": "c7128d45a953342855acfca85984b27a9de29467a63bca9b04cbf7ab65dd0918"
   }
  }
 },
 "nbformat": 4,
 "nbformat_minor": 2
}
