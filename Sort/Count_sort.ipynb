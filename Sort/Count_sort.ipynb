{
 "cells": [
  {
   "cell_type": "code",
   "execution_count": 11,
   "metadata": {},
   "outputs": [],
   "source": [
    "def count_sort(array):\n",
    "    # 모든 범위를 포함하는 리스트 선언 (값은 0으로 초기화)\n",
    "    counts = [0] * (max(array)+1)\n",
    "    for i in range(len(array)):\n",
    "        counts[array[i]] +=1 # 각 데이터에 해당하는 인덱스의 값 증가\n",
    "    \n",
    "    for i in range(len(counts)): # 리스트에 기록된 정렬 정보 확인\n",
    "        for _ in range(counts[i]):\n",
    "            print(i, end= ' ') # 띄어쓰기를 구분으로 등장한 횟수만큼 인덱스 출력\n"
   ]
  },
  {
   "cell_type": "code",
   "execution_count": 12,
   "metadata": {},
   "outputs": [
    {
     "name": "stdout",
     "output_type": "stream",
     "text": [
      "0 0 1 1 2 2 3 4 5 5 6 7 8 9 9 None\n"
     ]
    }
   ],
   "source": [
    "array = [7, 5, 9, 0, 3, 1, 6, 2, 9, 1, 4, 8 , 0, 5, 2]\n",
    "\n",
    "print(count_sort(array))"
   ]
  },
  {
   "cell_type": "markdown",
   "metadata": {},
   "source": []
  }
 ],
 "metadata": {
  "kernelspec": {
   "display_name": "Python 3.8.5 ('fc')",
   "language": "python",
   "name": "python3"
  },
  "language_info": {
   "codemirror_mode": {
    "name": "ipython",
    "version": 3
   },
   "file_extension": ".py",
   "mimetype": "text/x-python",
   "name": "python",
   "nbconvert_exporter": "python",
   "pygments_lexer": "ipython3",
   "version": "3.8.5"
  },
  "orig_nbformat": 4,
  "vscode": {
   "interpreter": {
    "hash": "c7128d45a953342855acfca85984b27a9de29467a63bca9b04cbf7ab65dd0918"
   }
  }
 },
 "nbformat": 4,
 "nbformat_minor": 2
}
