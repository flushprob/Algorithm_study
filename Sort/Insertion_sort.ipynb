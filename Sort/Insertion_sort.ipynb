{
 "cells": [
  {
   "cell_type": "code",
   "execution_count": 11,
   "metadata": {},
   "outputs": [],
   "source": [
    "def insertion_sort(array):\n",
    "    # array 길이 만큼 반복\n",
    "    for i in range(len(array)):\n",
    "        # array 인덱스부터 1씩 감소해서 비교\n",
    "        for j in range(i, 0, -1):\n",
    "            # index i에서부터 한 칸식 왼쪽으로 이동하며 만약 작을 경우 자리 바꾸기\n",
    "            print(array)\n",
    "            if array[j] < array[j-1]:\n",
    "                # 만약 작을 경우 자리 바꾸기\n",
    "                array[j], array[j-1] = array[j-1], array[j]\n",
    "            else:\n",
    "                # 작은 수가 없을 경우 break\n",
    "                break\n",
    "\n",
    "    "
   ]
  },
  {
   "cell_type": "code",
   "execution_count": 12,
   "metadata": {},
   "outputs": [
    {
     "name": "stdout",
     "output_type": "stream",
     "text": [
      "[7, 5, 9, 0, 3, 1, 6, 2, 4, 8]\n",
      "[5, 7, 9, 0, 3, 1, 6, 2, 4, 8]\n",
      "[5, 7, 9, 0, 3, 1, 6, 2, 4, 8]\n",
      "[5, 7, 0, 9, 3, 1, 6, 2, 4, 8]\n",
      "[5, 0, 7, 9, 3, 1, 6, 2, 4, 8]\n",
      "[0, 5, 7, 9, 3, 1, 6, 2, 4, 8]\n",
      "[0, 5, 7, 3, 9, 1, 6, 2, 4, 8]\n",
      "[0, 5, 3, 7, 9, 1, 6, 2, 4, 8]\n",
      "[0, 3, 5, 7, 9, 1, 6, 2, 4, 8]\n",
      "[0, 3, 5, 7, 9, 1, 6, 2, 4, 8]\n",
      "[0, 3, 5, 7, 1, 9, 6, 2, 4, 8]\n",
      "[0, 3, 5, 1, 7, 9, 6, 2, 4, 8]\n",
      "[0, 3, 1, 5, 7, 9, 6, 2, 4, 8]\n",
      "[0, 1, 3, 5, 7, 9, 6, 2, 4, 8]\n",
      "[0, 1, 3, 5, 7, 9, 6, 2, 4, 8]\n",
      "[0, 1, 3, 5, 7, 6, 9, 2, 4, 8]\n",
      "[0, 1, 3, 5, 6, 7, 9, 2, 4, 8]\n",
      "[0, 1, 3, 5, 6, 7, 9, 2, 4, 8]\n",
      "[0, 1, 3, 5, 6, 7, 2, 9, 4, 8]\n",
      "[0, 1, 3, 5, 6, 2, 7, 9, 4, 8]\n",
      "[0, 1, 3, 5, 2, 6, 7, 9, 4, 8]\n",
      "[0, 1, 3, 2, 5, 6, 7, 9, 4, 8]\n",
      "[0, 1, 2, 3, 5, 6, 7, 9, 4, 8]\n",
      "[0, 1, 2, 3, 5, 6, 7, 9, 4, 8]\n",
      "[0, 1, 2, 3, 5, 6, 7, 4, 9, 8]\n",
      "[0, 1, 2, 3, 5, 6, 4, 7, 9, 8]\n",
      "[0, 1, 2, 3, 5, 4, 6, 7, 9, 8]\n",
      "[0, 1, 2, 3, 4, 5, 6, 7, 9, 8]\n",
      "[0, 1, 2, 3, 4, 5, 6, 7, 9, 8]\n",
      "[0, 1, 2, 3, 4, 5, 6, 7, 8, 9]\n"
     ]
    }
   ],
   "source": [
    "array = [7, 5, 9, 0, 3, 1, 6, 2, 4, 8]\n",
    "insertion_sort(array)"
   ]
  },
  {
   "cell_type": "code",
   "execution_count": null,
   "metadata": {},
   "outputs": [],
   "source": []
  }
 ],
 "metadata": {
  "kernelspec": {
   "display_name": "Python 3.8.5 ('fc')",
   "language": "python",
   "name": "python3"
  },
  "language_info": {
   "codemirror_mode": {
    "name": "ipython",
    "version": 3
   },
   "file_extension": ".py",
   "mimetype": "text/x-python",
   "name": "python",
   "nbconvert_exporter": "python",
   "pygments_lexer": "ipython3",
   "version": "3.8.5"
  },
  "orig_nbformat": 4,
  "vscode": {
   "interpreter": {
    "hash": "c7128d45a953342855acfca85984b27a9de29467a63bca9b04cbf7ab65dd0918"
   }
  }
 },
 "nbformat": 4,
 "nbformat_minor": 2
}
