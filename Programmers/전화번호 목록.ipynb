{
 "cells": [
  {
   "cell_type": "code",
   "execution_count": null,
   "metadata": {},
   "outputs": [],
   "source": [
    "def solution(phone_book):\n",
    "    answer = True\n",
    "    phone_book.sort() # 정렬하기\n",
    "    for i in range(len(phone_book)-1): # phone_book 배열길이 - 1 만큼\n",
    "        next_data = phone_book[i+1] # 다음 값과 비교하기 위해 지정\n",
    "        if len(next_data) < len(phone_book[i]): # 만약 길이가 다를 경우 맞춰주기\n",
    "            phone_book[i] = phone_book[i][:len(next_data)]\n",
    "        else:\n",
    "            next_data =next_data[:len(phone_book[i])]\n",
    "            \n",
    "        if next_data == phone_book[i]: # 만약 시작점이 같다면 False 리턴\n",
    "            return False\n",
    "            \n",
    "    return answer"
   ]
  }
 ],
 "metadata": {
  "language_info": {
   "name": "python"
  },
  "orig_nbformat": 4
 },
 "nbformat": 4,
 "nbformat_minor": 2
}
