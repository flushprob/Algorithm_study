{
 "cells": [
  {
   "cell_type": "markdown",
   "metadata": {},
   "source": [
    "https://school.programmers.co.kr/learn/courses/30/lessons/118667"
   ]
  },
  {
   "cell_type": "code",
   "execution_count": null,
   "metadata": {},
   "outputs": [],
   "source": [
    "from collections import deque\n",
    "\n",
    "def solution(queue1, queue2):\n",
    "    answer = -1\n",
    "    # Queue 선언\n",
    "    queue1, queue2 = deque(queue1), deque(queue2)\n",
    "    # 조건값 설정\n",
    "    result = sum(queue1+queue2)/2\n",
    "    # 카운트 설정\n",
    "    count = 0\n",
    "    # 합 구하기\n",
    "    queue1_sum = sum(queue1)\n",
    "    queue2_sum = sum(queue2)\n",
    "    \n",
    "    while count<1000000:\n",
    "        # 만약 queue1 과 queue2 가 같다면 탈출\n",
    "        if queue1_sum == result and queue2_sum ==result:\n",
    "            return count\n",
    "        # queue1의 합계가 result 값보다 작을 경우\n",
    "        if queue1_sum < result:\n",
    "            queue1.append(queue2.popleft())\n",
    "            count +=1\n",
    "            queue1_sum+=queue1[-1]\n",
    "            queue2_sum-=queue1[-1]\n",
    "        # queue2의 합계가 result 값보다 작을 경우\n",
    "        else:\n",
    "            queue2.append(queue1.popleft())\n",
    "            count +=1\n",
    "            queue2_sum+=queue2[-1]\n",
    "            queue1_sum-=queue2[-1]\n",
    "            \n",
    "    \n",
    "    return answer"
   ]
  }
 ],
 "metadata": {
  "language_info": {
   "name": "python"
  },
  "orig_nbformat": 4
 },
 "nbformat": 4,
 "nbformat_minor": 2
}
